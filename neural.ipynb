{
 "cells": [
  {
   "cell_type": "code",
   "execution_count": 970,
   "id": "e47be8db",
   "metadata": {},
   "outputs": [],
   "source": [
    "import pandas as pd\n",
    "import matplotlib.pyplot as plt\n",
    "import numpy as np\n",
    "import os"
   ]
  },
  {
   "cell_type": "code",
   "execution_count": 978,
   "id": "fe76ba1a",
   "metadata": {},
   "outputs": [],
   "source": [
    "def show_image(idx, x_data, y_data):\n",
    "    label = y_data[idx]\n",
    "    print(\"digit = \", label, \"\\n\")\n",
    "\n",
    "    pixels = x_data[idx]\n",
    "    pixels = pixels.reshape((28,28))\n",
    "    plt.tight_layout()\n",
    "    plt.imshow(pixels, cmap=plt.get_cmap('gray_r'))\n",
    "    plt.show()  \n",
    "    \n",
    "def init_params():\n",
    "    w1 = (np.random.rand(10,784)-0.5)/255\n",
    "    wb1 = np.random.rand(10,1)-0.5\n",
    "    w2 = (np.random.rand(10,10)-0.5)/255\n",
    "    wb2 = np.random.rand(10,1)-0.5\n",
    "    #print(wb2)\n",
    "    return w1, wb1, w2, wb2\n",
    "\n",
    "def relu_dash(z):\n",
    "    return z > 0\n",
    "\n",
    "def softmax_dash(z):\n",
    "    #softmax - softmax^2\n",
    "    return z - np.square(z)\n",
    "\n",
    "def relu(z):\n",
    "    return np.maximum(0,z) #elementwise --nice\n",
    " \n",
    "def softmax(z):\n",
    "    return np.exp(z)/np.sum(np.exp(z),0)\n",
    "\n",
    "def one_hot(y):\n",
    "    one_hot_y = np.zeros((y.size, 10))\n",
    "    one_hot_y[np.arange(y.size),y] = 1\n",
    "    one_hot_y = one_hot_y.T\n",
    "   # print(one_hot_y[:,8])\n",
    "    return one_hot_y\n",
    "\n",
    "def forward_prop(x, w1, w2, wb1, wb2):\n",
    "    #print(np.shape(x))\n",
    "    a1 = w1.dot(x) + wb1 #layer 1\n",
    "    #print(np.shape(a1))\n",
    "    o1 = relu(a1) # act func\n",
    "    #print(np.shape(o1))\n",
    "    a2 = w2.dot(o1) + wb2 # layer 2\n",
    "    #print(np.shape(a2))\n",
    "    o2 = softmax(a2) #output layer\n",
    "    #print(\"a1\",a1[:, 7],\"o1\",o1[:, 7],'a2',a2[:, 7],'o2',o2[:, 7])\n",
    "    return o1, o2\n",
    "\n",
    "def backward_prop(x, y, o2, o1, w2, wb2, w1, wb1):\n",
    "    one_hot_y = one_hot(y)\n",
    "    dw1 = np.zeros((10, 784))\n",
    "    dw2 = np.zeros((10,10))\n",
    "    delta_w2 = np.multiply(softmax_dash(o2), o2 - one_hot_y)\n",
    "    delta_w1 = np.multiply(relu_dash(o1), w2.dot(delta_w2)) \n",
    "    for i in range(len(y)):\n",
    "        dw2 = dw2 + (1/n)*np.outer(delta_w2[:, i], o1[:, i]) #times outputs of requisite layer - big issues\n",
    "        dw1 = dw1 + (1/n)*np.outer(delta_w1[:, i], x[:, i]) # big issues\n",
    "    dwb2 = (1/n)*np.sum(delta_w2, axis = 1, keepdims=True)\n",
    "    dwb1 = ((1/n)*np.sum(delta_w1, axis = 1, keepdims=True))\n",
    "    return dw1, dw2, dwb1, dwb2\n",
    "\n",
    "def update(dw1, dwb1, dw2, dwb2, w1, wb1, w2, wb2, alpha):\n",
    "    w1 = w1 - alpha*dw1\n",
    "    w2 = w2 - alpha*dw2\n",
    "    wb1 = wb1 - alpha*dwb1\n",
    "    wb2 = wb2 - alpha*dwb2\n",
    "   # print('wb2',wb2)\n",
    "    return w1, w2, wb1, wb2\n",
    "\n",
    "def get_prediction(o2):\n",
    "    return np.argmax(o2, axis=0)\n",
    "\n",
    "def wrong_tally(w1, wb1, w2, wb2, x, y):\n",
    "    o1, o2 = forward_prop(x, w1, w2, wb1, wb2)\n",
    "    predictions = get_prediction(o2)\n",
    "    tally = dict.fromkeys([i for i in range(max(y)+1)],0)\n",
    "    indexes = []\n",
    "    for i, val in enumerate(predictions==y):\n",
    "        if val == 0:\n",
    "            indexes.append(i)\n",
    "            tally[y[i]] += 1\n",
    "    for i in tally:\n",
    "        num = tally[i]\n",
    "        print(f'\\nThere are {num} false readings of a {i}')\n",
    "    return indexes    \n",
    "                          \n",
    "                          \n",
    "                          \n",
    "def get_accuracy(predictions, y):\n",
    "    return np.sum(predictions == y)/ y.size\n",
    "\n",
    "def gradient_descent(x, y, iterations, alpha):\n",
    "    w1, wb1, w2, wb2 = init_params()\n",
    "    iteration_evals = []\n",
    "    Train = []\n",
    "    Test = []\n",
    "    for i in range(1,iterations+1):\n",
    "        o1, o2 = forward_prop(x, w1, w2, wb1, wb2)\n",
    "       \n",
    "        dw1, dw2, dwb1, dwb2 = backward_prop(x, y, o2, o1, w2, wb2, w1, wb1)\n",
    "        w1, w2, wb1, wb2 = update(dw1, dwb1, dw2, dwb2, w1, wb1, w2, wb2, alpha)\n",
    "        \n",
    "        if i%20 == 0:\n",
    "            pred = get_accuracy(get_prediction(o2),y)*100\n",
    "            acc = test_solution_test_set(w1, wb1, w2, wb2, x_data_test, y_data_test)\n",
    "            Train.append(100-pred)\n",
    "            Test.append(100-acc)\n",
    "            iteration_evals.append(i)\n",
    "            if i%100 == 0:\n",
    "                print('Iteration', i)\n",
    "                print(f'Training accuracy is {pred}%')\n",
    "                print(f'Test accuracy is {acc}%')\n",
    "    return w1, wb1, w2, wb2, Test, Train, iteration_evals\n",
    "\n",
    "def main():\n",
    "    w1, wb1, w2, wb2, Test, Train, iteration_evals = gradient_descent(x, y, 600, 0.005)\n",
    "    print('fini')\n",
    "    fig = plt.figure()\n",
    "    ax = fig.add_subplot(1, 1, 1)\n",
    "    ax.set_xlabel('iterations')\n",
    "    ax.set_ylabel('error(%)')\n",
    "    ax.set_yscale('log')\n",
    "    ax.plot(iteration_evals, Train, color='tab:blue', label='Training set')\n",
    "    ax.plot(iteration_evals, Test, color='tab:red', label='Test set')\n",
    "    ax.set_ylim(1,100)\n",
    "    plt.legend()\n",
    "    plt.show()\n",
    "    return w1, wb1, w2, wb2\n",
    "\n",
    "def test_solution_individual(w1, wb1, w2, wb2, x, y, idx):\n",
    "    o1, o2 = forward_prop(np.reshape(x[:,idx],(784,1)), w1, w2, wb1, wb2)\n",
    "    #print(np.shape(o2))\n",
    "    pred = get_prediction(o2)[0]\n",
    "    conf = round(o2[pred][0]*100,1)\n",
    "    print(f'prediction is: {pred}',f'\\nwith {conf} percent confidence')\n",
    "    \n",
    "    show_image(idx, x.T, y)\n",
    "    if get_prediction(o2)[0] == y[idx]:\n",
    "        print('success')\n",
    "    else: \n",
    "        print('fail')\n",
    "        \n",
    "def test_solution_test_set(w1, wb1, w2, wb2, x, y):\n",
    "    o1, o2 = forward_prop(x, w1, w2, wb1, wb2)\n",
    "    acc = get_accuracy(get_prediction(o2),y)*100\n",
    "    \n",
    "    return acc"
   ]
  },
  {
   "cell_type": "code",
   "execution_count": null,
   "id": "486ad1d4",
   "metadata": {},
   "outputs": [],
   "source": []
  },
  {
   "cell_type": "code",
   "execution_count": 979,
   "id": "0c4572c2",
   "metadata": {},
   "outputs": [],
   "source": [
    "def data_get(r_tra_te, name, x_size):\n",
    "    all_data = np.loadtxt('mnist_train_5000.txt', delimiter=\"\\t\",\n",
    "        usecols=range(0,x_size+1), dtype=np.int64) #data set\n",
    "    print('Set has',all_data.shape[0],'data points' '\\nInput data size: ',x_size)\n",
    "    data_delim = all_data.shape[0]*r_tra_te[1]/(sum(r_tra_te))\n",
    "    x_data = all_data[0:4000,0:x_size]  # all rows, 784 cols\n",
    "    y_data = all_data[0:4000, x_size]    # all rows, last col\n",
    "    x_data_test = all_data[4000:, x_size]\n",
    "    x_data_test = x_data_test.T\n",
    "    y_data_test = all_data[4000:, x_size]\n",
    "    x = x_data.T\n",
    "    y = y_data\n",
    "    return x, y, x_data, y_data, x_data_test, y_data_test"
   ]
  },
  {
   "cell_type": "code",
   "execution_count": 973,
   "id": "dd6f85ed",
   "metadata": {},
   "outputs": [],
   "source": [
    "def top_main():\n",
    "    x, y, x_data, y_data, x_data_test, y_data_test = data_get([1,4],'mnist_train_5000.txt', 784)\n",
    "    \n"
   ]
  },
  {
   "cell_type": "code",
   "execution_count": 974,
   "id": "faceae4d",
   "metadata": {},
   "outputs": [
    {
     "name": "stdout",
     "output_type": "stream",
     "text": [
      "Set has 5000 data points\n",
      "Input data size:  784\n"
     ]
    }
   ],
   "source": [
    "top_main()"
   ]
  },
  {
   "cell_type": "code",
   "execution_count": 976,
   "id": "3a0f2036",
   "metadata": {},
   "outputs": [
    {
     "name": "stdout",
     "output_type": "stream",
     "text": [
      "digit =  4 \n",
      "\n"
     ]
    },
    {
     "data": {
      "image/png": "[encoded data removed]",
      "text/plain": [
       "<Figure size 432x288 with 1 Axes>"
      ]
     },
     "metadata": {
      "needs_background": "light"
     },
     "output_type": "display_data"
    }
   ],
   "source": [
    "#look through data by changing idx to index through range\n",
    "idx = 564\n",
    "show_image(idx, x_data, y_data)"
   ]
  },
  {
   "cell_type": "code",
   "execution_count": null,
   "id": "7ffc8560",
   "metadata": {},
   "outputs": [],
   "source": [
    "#script\n"
   ]
  },
  {
   "cell_type": "code",
   "execution_count": null,
   "id": "4bb1d3a3",
   "metadata": {},
   "outputs": [],
   "source": []
  },
  {
   "cell_type": "code",
   "execution_count": null,
   "id": "d4f81a08",
   "metadata": {},
   "outputs": [],
   "source": []
  },
  {
   "cell_type": "code",
   "execution_count": 977,
   "id": "f2673bb4",
   "metadata": {},
   "outputs": [],
   "source": [
    "m,n = np.shape(x)\n",
    "#m is no of pixels, n is num of data points"
   ]
  },
  {
   "cell_type": "code",
   "execution_count": 980,
   "id": "aa8124ae",
   "metadata": {
    "scrolled": true
   },
   "outputs": [
    {
     "name": "stdout",
     "output_type": "stream",
     "text": [
      "Iteration 100\n",
      "Training accuracy is 46.225%\n",
      "Test accuracy is 56.89999999999999%\n",
      "Iteration 200\n",
      "Training accuracy is 87.075%\n",
      "Test accuracy is 83.6%\n",
      "Iteration 300\n",
      "Training accuracy is 92.375%\n",
      "Test accuracy is 88.7%\n",
      "Iteration 400\n",
      "Training accuracy is 93.85%\n",
      "Test accuracy is 90.3%\n",
      "Iteration 500\n",
      "Training accuracy is 94.5%\n",
      "Test accuracy is 90.60000000000001%\n",
      "Iteration 600\n",
      "Training accuracy is 95.1%\n",
      "Test accuracy is 90.4%\n",
      "fini\n"
     ]
    },
    {
     "data": {
      "image/png": "[encoded data removed]",
      "text/plain": [
       "<Figure size 432x288 with 1 Axes>"
      ]
     },
     "metadata": {
      "needs_background": "light"
     },
     "output_type": "display_data"
    }
   ],
   "source": [
    "w1, wb1, w2, wb2 = main()"
   ]
  },
  {
   "cell_type": "code",
   "execution_count": 981,
   "id": "9f60d2ee",
   "metadata": {},
   "outputs": [],
   "source": [
    "j = 5"
   ]
  },
  {
   "cell_type": "code",
   "execution_count": 994,
   "id": "f534a47a",
   "metadata": {},
   "outputs": [
    {
     "name": "stdout",
     "output_type": "stream",
     "text": [
      "prediction is: 5 \n",
      "with 84.6 percent confidence\n",
      "digit =  5 \n",
      "\n"
     ]
    },
    {
     "data": {
      "image/png": "[encoded data removed]",
      "text/plain": [
       "<Figure size 432x288 with 1 Axes>"
      ]
     },
     "metadata": {
      "needs_background": "light"
     },
     "output_type": "display_data"
    },
    {
     "name": "stdout",
     "output_type": "stream",
     "text": [
      "success\n"
     ]
    }
   ],
   "source": [
    "test_solution_individual(w1, wb1, w2, wb2, x_data_test, y_data_test , j)\n",
    "j += 1"
   ]
  },
  {
   "cell_type": "code",
   "execution_count": 995,
   "id": "93b12d05",
   "metadata": {},
   "outputs": [
    {
     "name": "stdout",
     "output_type": "stream",
     "text": [
      "\n",
      "There are 2 false readings of a 0\n",
      "\n",
      "There are 6 false readings of a 1\n",
      "\n",
      "There are 17 false readings of a 2\n",
      "\n",
      "There are 15 false readings of a 3\n",
      "\n",
      "There are 4 false readings of a 4\n",
      "\n",
      "There are 11 false readings of a 5\n",
      "\n",
      "There are 10 false readings of a 6\n",
      "\n",
      "There are 6 false readings of a 7\n",
      "\n",
      "There are 14 false readings of a 8\n",
      "\n",
      "There are 11 false readings of a 9\n"
     ]
    }
   ],
   "source": [
    "indexes = wrong_tally(w1, wb1, w2, wb2, x_data_test, y_data_test)"
   ]
  },
  {
   "cell_type": "code",
   "execution_count": 849,
   "id": "2e3d2a1d",
   "metadata": {},
   "outputs": [],
   "source": [
    "i=0"
   ]
  },
  {
   "cell_type": "code",
   "execution_count": 1005,
   "id": "b7727cb3",
   "metadata": {},
   "outputs": [
    {
     "name": "stdout",
     "output_type": "stream",
     "text": [
      "prediction is: 4 \n",
      "with 44.7 percent confidence\n",
      "digit =  6 \n",
      "\n"
     ]
    },
    {
     "data": {
      "image/png": "[encoded data removed]",
      "text/plain": [
       "<Figure size 432x288 with 1 Axes>"
      ]
     },
     "metadata": {
      "needs_background": "light"
     },
     "output_type": "display_data"
    },
    {
     "name": "stdout",
     "output_type": "stream",
     "text": [
      "fail\n"
     ]
    }
   ],
   "source": [
    "#call block repeatedly to see all false predictions\n",
    "test_solution_individual(w1, wb1, w2, wb2, x_data_test, y_data_test , indexes[i])\n",
    "i+=1"
   ]
  },
  {
   "cell_type": "code",
   "execution_count": null,
   "id": "b46cde45",
   "metadata": {},
   "outputs": [],
   "source": []
  },
  {
   "cell_type": "code",
   "execution_count": null,
   "id": "edab88ce",
   "metadata": {},
   "outputs": [],
   "source": []
  }
 ],
 "metadata": {
  "kernelspec": {
   "display_name": "Python 3 (ipykernel)",
   "language": "python",
   "name": "python3"
  },
  "language_info": {
   "codemirror_mode": {
    "name": "ipython",
    "version": 3
   },
   "file_extension": ".py",
   "mimetype": "text/x-python",
   "name": "python",
   "nbconvert_exporter": "python",
   "pygments_lexer": "ipython3",
   "version": "3.9.12"
  }
 },
 "nbformat": 4,
 "nbformat_minor": 5
}
